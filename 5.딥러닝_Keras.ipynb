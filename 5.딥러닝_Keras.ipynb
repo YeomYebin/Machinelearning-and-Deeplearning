{
 "cells": [
  {
   "cell_type": "markdown",
   "id": "1ca21658",
   "metadata": {},
   "source": [
    "#### 2018312343 염예빈"
   ]
  },
  {
   "cell_type": "markdown",
   "id": "fc3e0d28",
   "metadata": {},
   "source": [
    "## 6주차 실습과제 : 머신러닝과 딥러닝"
   ]
  },
  {
   "cell_type": "code",
   "execution_count": 1,
   "id": "652b9341",
   "metadata": {
    "colab": {
     "base_uri": "https://localhost:8080/",
     "height": 35
    },
    "colab_type": "code",
    "executionInfo": {
     "elapsed": 3377,
     "status": "ok",
     "timestamp": 1596185589784,
     "user": {
      "displayName": "신석원",
      "photoUrl": "",
      "userId": "02673663347043904044"
     },
     "user_tz": -540
    },
    "id": "bvfvXCxjEMAK",
    "outputId": "cdcd7095-6165-4b18-dc86-d6cb325a01aa"
   },
   "outputs": [
    {
     "name": "stderr",
     "output_type": "stream",
     "text": [
      "Using TensorFlow backend.\n"
     ]
    }
   ],
   "source": [
    "from __future__ import print_function\n",
    "import keras\n",
    "from keras.datasets import mnist\n",
    "from keras.models import Sequential\n",
    "from keras.layers import Dense,Dropout,Flatten\n",
    "from keras.layers import Conv2D, MaxPooling2D\n",
    "from keras import backend as K"
   ]
  },
  {
   "cell_type": "code",
   "execution_count": 2,
   "id": "77448226",
   "metadata": {
    "colab": {},
    "colab_type": "code",
    "executionInfo": {
     "elapsed": 1512,
     "status": "ok",
     "timestamp": 1596185608437,
     "user": {
      "displayName": "신석원",
      "photoUrl": "",
      "userId": "02673663347043904044"
     },
     "user_tz": -540
    },
    "id": "GfDc-NmSEwke"
   },
   "outputs": [],
   "source": [
    "batch_size = 128\n",
    "num_classes = 10\n",
    "epoch = 12"
   ]
  },
  {
   "cell_type": "code",
   "execution_count": 12,
   "id": "db4791bc",
   "metadata": {
    "colab": {},
    "colab_type": "code",
    "executionInfo": {
     "elapsed": 1510,
     "status": "ok",
     "timestamp": 1596186246368,
     "user": {
      "displayName": "신석원",
      "photoUrl": "",
      "userId": "02673663347043904044"
     },
     "user_tz": -540
    },
    "id": "Fog3rl1EE3rj"
   },
   "outputs": [],
   "source": [
    "img_rows, img_cols = 28,28\n",
    "(x_train,y_train),(x_test,y_test) = mnist.load_data()\n",
    "if K.image_data_format() == 'channels_first':\n",
    "  x_train = x_train.reshape(x_train.shape[0],1,img_rows,img_cols)\n",
    "  x_test = x_test.reshape(x_test.shape[0],1,img_rows,img_cols)\n",
    "  input_shape = (1,img_rows,img_cols)\n",
    "else: \n",
    "  x_train = x_train.reshape(x_train.shape[0],img_rows,img_cols,1)\n",
    "  x_test = x_test.reshape(x_test.shape[0],img_rows,img_cols,1)\n",
    "  input_shape = (img_rows,img_cols,1)"
   ]
  },
  {
   "cell_type": "code",
   "execution_count": 14,
   "id": "b816af6a",
   "metadata": {
    "colab": {},
    "colab_type": "code",
    "executionInfo": {
     "elapsed": 1563,
     "status": "ok",
     "timestamp": 1596186263231,
     "user": {
      "displayName": "신석원",
      "photoUrl": "",
      "userId": "02673663347043904044"
     },
     "user_tz": -540
    },
    "id": "G7cdn-QJFg_q"
   },
   "outputs": [],
   "source": [
    "x_train=x_train.astype('float32')/255\n",
    "x_test=x_test.astype('float32')/255\n",
    "\n",
    "y_train = keras.utils.to_categorical(y_train,num_classes)\n",
    "y_test = keras.utils.to_categorical(y_test,num_classes)"
   ]
  },
  {
   "cell_type": "code",
   "execution_count": 18,
   "id": "8d15ca26",
   "metadata": {
    "colab": {},
    "colab_type": "code",
    "executionInfo": {
     "elapsed": 1587,
     "status": "ok",
     "timestamp": 1596186322258,
     "user": {
      "displayName": "신석원",
      "photoUrl": "",
      "userId": "02673663347043904044"
     },
     "user_tz": -540
    },
    "id": "_okczofFFqvX"
   },
   "outputs": [],
   "source": [
    "model = Sequential()\n",
    "model.add(Conv2D(32, kernel_size=(3,3),\n",
    "                 activation='relu',\n",
    "                 input_shape=input_shape))\n",
    "model.add(MaxPooling2D(pool_size=(2,2)))\n",
    "model.add(Dropout(0.25))\n",
    "model.add(Flatten())\n",
    "model.add(Dense(128, activation='relu'))\n",
    "model.add(Dropout(0.5))\n",
    "model.add(Dense(num_classes, activation='softmax'))"
   ]
  },
  {
   "cell_type": "code",
   "execution_count": 19,
   "id": "3693135f",
   "metadata": {
    "colab": {},
    "colab_type": "code",
    "executionInfo": {
     "elapsed": 1551,
     "status": "ok",
     "timestamp": 1596186326978,
     "user": {
      "displayName": "신석원",
      "photoUrl": "",
      "userId": "02673663347043904044"
     },
     "user_tz": -540
    },
    "id": "wABI-tMdGMCW"
   },
   "outputs": [],
   "source": [
    "model.compile(loss=keras.losses.categorical_crossentropy,\n",
    "              optimizer=keras.optimizers.Adadelta(),\n",
    "              metrics=['accuracy'])"
   ]
  },
  {
   "cell_type": "code",
   "execution_count": 20,
   "id": "6d8ba41b",
   "metadata": {
    "colab": {
     "base_uri": "https://localhost:8080/",
     "height": 461
    },
    "colab_type": "code",
    "executionInfo": {
     "elapsed": 28166,
     "status": "ok",
     "timestamp": 1596186359952,
     "user": {
      "displayName": "신석원",
      "photoUrl": "",
      "userId": "02673663347043904044"
     },
     "user_tz": -540
    },
    "id": "kqPAJr_yGZqS",
    "outputId": "864a2bd3-fc8a-4388-bb6d-05bb436f745b"
   },
   "outputs": [
    {
     "name": "stdout",
     "output_type": "stream",
     "text": [
      "Epoch 1/12\n",
      "60000/60000 [==============================] - 2s 40us/step - loss: 0.3408 - accuracy: 0.8971\n",
      "Epoch 2/12\n",
      "60000/60000 [==============================] - 2s 37us/step - loss: 0.1399 - accuracy: 0.9584\n",
      "Epoch 3/12\n",
      "60000/60000 [==============================] - 2s 36us/step - loss: 0.1049 - accuracy: 0.9689\n",
      "Epoch 4/12\n",
      "60000/60000 [==============================] - 2s 37us/step - loss: 0.0900 - accuracy: 0.9726\n",
      "Epoch 5/12\n",
      "60000/60000 [==============================] - 2s 36us/step - loss: 0.0794 - accuracy: 0.9762\n",
      "Epoch 6/12\n",
      "60000/60000 [==============================] - 2s 37us/step - loss: 0.0708 - accuracy: 0.9781\n",
      "Epoch 7/12\n",
      "60000/60000 [==============================] - 2s 36us/step - loss: 0.0639 - accuracy: 0.9803\n",
      "Epoch 8/12\n",
      "60000/60000 [==============================] - 2s 37us/step - loss: 0.0601 - accuracy: 0.9818\n",
      "Epoch 9/12\n",
      "60000/60000 [==============================] - 2s 37us/step - loss: 0.0548 - accuracy: 0.9833\n",
      "Epoch 10/12\n",
      "60000/60000 [==============================] - 2s 37us/step - loss: 0.0527 - accuracy: 0.9837\n",
      "Epoch 11/12\n",
      "60000/60000 [==============================] - 2s 37us/step - loss: 0.0491 - accuracy: 0.9847\n",
      "Epoch 12/12\n",
      "60000/60000 [==============================] - 2s 37us/step - loss: 0.0480 - accuracy: 0.9847\n"
     ]
    },
    {
     "data": {
      "text/plain": [
       "<keras.callbacks.callbacks.History at 0x7fc2dbff8dd8>"
      ]
     },
     "execution_count": 20,
     "metadata": {
      "tags": []
     },
     "output_type": "execute_result"
    }
   ],
   "source": [
    "model.fit(x_train,y_train,\n",
    "          batch_size=batch_size,\n",
    "          epochs = epoch,\n",
    "          verbose=1)"
   ]
  },
  {
   "cell_type": "code",
   "execution_count": 21,
   "id": "c2f0b7a7",
   "metadata": {
    "colab": {
     "base_uri": "https://localhost:8080/",
     "height": 52
    },
    "colab_type": "code",
    "executionInfo": {
     "elapsed": 1998,
     "status": "ok",
     "timestamp": 1596186403046,
     "user": {
      "displayName": "신석원",
      "photoUrl": "",
      "userId": "02673663347043904044"
     },
     "user_tz": -540
    },
    "id": "-fkPFWRCGove",
    "outputId": "415dbb60-3469-462e-e8b5-e33cf44f8edf"
   },
   "outputs": [
    {
     "name": "stdout",
     "output_type": "stream",
     "text": [
      "Test loss :  0.0369082065519935\n",
      "Test acc :  0.9873999953269958\n"
     ]
    }
   ],
   "source": [
    "score=model.evaluate(x_test,y_test,verbose=0)\n",
    "print('Test loss : ',score[0])\n",
    "print('Test acc : ',score[1])"
   ]
  },
  {
   "cell_type": "code",
   "execution_count": 22,
   "id": "79a14d5f",
   "metadata": {
    "colab": {},
    "colab_type": "code",
    "executionInfo": {
     "elapsed": 1255,
     "status": "ok",
     "timestamp": 1596186415451,
     "user": {
      "displayName": "신석원",
      "photoUrl": "",
      "userId": "02673663347043904044"
     },
     "user_tz": -540
    },
    "id": "vy5nVwVkHHph"
   },
   "outputs": [],
   "source": [
    "model2 = Sequential()\n",
    "model2.add(Conv2D(32, kernel_size=(3,3),\n",
    "                 activation='relu',\n",
    "                 input_shape=input_shape))\n",
    "model2.add(Conv2D(32,(3,3),activation='relu'))\n",
    "model2.add(MaxPooling2D(pool_size=(2,2)))\n",
    "model2.add(Dropout(0.25))\n",
    "model2.add(Flatten())\n",
    "model2.add(Dense(128, activation='relu'))\n",
    "model2.add(Dropout(0.5))\n",
    "model2.add(Dense(num_classes, activation='softmax'))"
   ]
  },
  {
   "cell_type": "code",
   "execution_count": 23,
   "id": "49b62db3",
   "metadata": {
    "colab": {
     "base_uri": "https://localhost:8080/",
     "height": 485
    },
    "colab_type": "code",
    "executionInfo": {
     "elapsed": 42492,
     "status": "ok",
     "timestamp": 1596186489536,
     "user": {
      "displayName": "신석원",
      "photoUrl": "",
      "userId": "02673663347043904044"
     },
     "user_tz": -540
    },
    "id": "WxsuuxxkH8rN",
    "outputId": "35d47230-f741-4fbd-b7b3-7347f9a9deea",
    "scrolled": false
   },
   "outputs": [
    {
     "name": "stdout",
     "output_type": "stream",
     "text": [
      "Epoch 1/12\n",
      "60000/60000 [==============================] - 4s 60us/step - loss: 0.2990 - accuracy: 0.9079\n",
      "Epoch 2/12\n",
      "60000/60000 [==============================] - 3s 55us/step - loss: 0.1018 - accuracy: 0.9696\n",
      "Epoch 3/12\n",
      "60000/60000 [==============================] - 3s 55us/step - loss: 0.0744 - accuracy: 0.9779\n",
      "Epoch 4/12\n",
      "60000/60000 [==============================] - 3s 55us/step - loss: 0.0633 - accuracy: 0.9805\n",
      "Epoch 5/12\n",
      "60000/60000 [==============================] - 3s 55us/step - loss: 0.0574 - accuracy: 0.9831\n",
      "Epoch 6/12\n",
      "60000/60000 [==============================] - 3s 55us/step - loss: 0.0478 - accuracy: 0.9855\n",
      "Epoch 7/12\n",
      "60000/60000 [==============================] - 3s 55us/step - loss: 0.0461 - accuracy: 0.9866\n",
      "Epoch 8/12\n",
      "60000/60000 [==============================] - 3s 55us/step - loss: 0.0426 - accuracy: 0.9871\n",
      "Epoch 9/12\n",
      "60000/60000 [==============================] - 3s 55us/step - loss: 0.0394 - accuracy: 0.9882\n",
      "Epoch 10/12\n",
      "60000/60000 [==============================] - 3s 55us/step - loss: 0.0361 - accuracy: 0.9888\n",
      "Epoch 11/12\n",
      "60000/60000 [==============================] - 3s 55us/step - loss: 0.0354 - accuracy: 0.9891\n",
      "Epoch 12/12\n",
      "60000/60000 [==============================] - 3s 56us/step - loss: 0.0341 - accuracy: 0.9899\n",
      "Test loss :  0.02716255957569083\n",
      "Test acc :  0.9907000064849854\n"
     ]
    }
   ],
   "source": [
    "model2.compile(loss=keras.losses.categorical_crossentropy,\n",
    "              optimizer=keras.optimizers.Adadelta(),\n",
    "              metrics=['accuracy'])\n",
    "model2.fit(x_train,y_train,\n",
    "          batch_size=batch_size,\n",
    "          epochs = epoch,\n",
    "          verbose=1)\n",
    "score=model2.evaluate(x_test,y_test,verbose=0)\n",
    "print('Test loss : ',score[0])\n",
    "print('Test acc : ',score[1])"
   ]
  },
  {
   "cell_type": "code",
   "execution_count": 5,
   "id": "6a0271ac",
   "metadata": {},
   "outputs": [],
   "source": [
    "##13장"
   ]
  },
  {
   "cell_type": "code",
   "execution_count": 1,
   "id": "1d7e99c6",
   "metadata": {
    "colab": {
     "base_uri": "https://localhost:8080/",
     "height": 265
    },
    "colab_type": "code",
    "executionInfo": {
     "elapsed": 928,
     "status": "ok",
     "timestamp": 1596787799044,
     "user": {
      "displayName": "신석원",
      "photoUrl": "",
      "userId": "02673663347043904044"
     },
     "user_tz": -540
    },
    "id": "j17tHEW59dmm",
    "outputId": "98d2f263-cdc3-4a2f-9dae-0f3260162895"
   },
   "outputs": [
    {
     "data": {
      "image/png": "[encoded data removed]",
      "text/plain": [
       "<Figure size 432x288 with 1 Axes>"
      ]
     },
     "metadata": {
      "needs_background": "light",
      "tags": []
     },
     "output_type": "display_data"
    }
   ],
   "source": [
    "import numpy as np\n",
    "from matplotlib import pyplot as plt\n",
    "s = np.sin(2 * np.pi * 0.125 * np.arange(20))\n",
    "plt.plot(s,'ro-')\n",
    "plt.xlim(-0.5,20.5)\n",
    "plt.ylim(-1.1,1.1)\n",
    "plt.show() "
   ]
  },
  {
   "cell_type": "code",
   "execution_count": 4,
   "id": "8c5d91b3",
   "metadata": {
    "colab": {
     "base_uri": "https://localhost:8080/",
     "height": 107
    },
    "colab_type": "code",
    "executionInfo": {
     "elapsed": 969,
     "status": "ok",
     "timestamp": 1596787916587,
     "user": {
      "displayName": "신석원",
      "photoUrl": "",
      "userId": "02673663347043904044"
     },
     "user_tz": -540
    },
    "id": "usSrjyvl967z",
    "outputId": "6a55957c-4f31-4da8-a078-f6a3247ad007"
   },
   "outputs": [
    {
     "data": {
      "text/plain": [
       "array([[ 0.00000000e+00,  7.07106781e-01,  1.00000000e+00],\n",
       "       [ 7.07106781e-01,  1.00000000e+00,  7.07106781e-01],\n",
       "       [ 1.00000000e+00,  7.07106781e-01,  1.22464680e-16],\n",
       "       [ 7.07106781e-01,  1.22464680e-16, -7.07106781e-01],\n",
       "       [ 1.22464680e-16, -7.07106781e-01, -1.00000000e+00]])"
      ]
     },
     "execution_count": 4,
     "metadata": {
      "tags": []
     },
     "output_type": "execute_result"
    }
   ],
   "source": [
    "from scipy.linalg import toeplitz\n",
    "S = np.fliplr(toeplitz(np.r_[s[-1], np.zeros(s.shape[0] - 2)], s[::-1]))\n",
    "S[:5, :3]"
   ]
  },
  {
   "cell_type": "code",
   "execution_count": 5,
   "id": "625ab4bd",
   "metadata": {
    "colab": {
     "base_uri": "https://localhost:8080/",
     "height": 35
    },
    "colab_type": "code",
    "executionInfo": {
     "elapsed": 776,
     "status": "ok",
     "timestamp": 1596787965551,
     "user": {
      "displayName": "신석원",
      "photoUrl": "",
      "userId": "02673663347043904044"
     },
     "user_tz": -540
    },
    "id": "Gz-YgBca-ZKG",
    "outputId": "5721419a-1613-4a1a-b4ca-559133574c0e"
   },
   "outputs": [
    {
     "data": {
      "text/plain": [
       "((18, 3, 1), (18,))"
      ]
     },
     "execution_count": 5,
     "metadata": {
      "tags": []
     },
     "output_type": "execute_result"
    }
   ],
   "source": [
    "X_train = S[:-1, :3][:, :, np.newaxis]\n",
    "Y_train = S[:-1,3]\n",
    "X_train.shape, Y_train.shape"
   ]
  },
  {
   "cell_type": "code",
   "execution_count": 7,
   "id": "1e24fe48",
   "metadata": {
    "colab": {
     "base_uri": "https://localhost:8080/",
     "height": 233
    },
    "colab_type": "code",
    "executionInfo": {
     "elapsed": 830,
     "status": "ok",
     "timestamp": 1596788102821,
     "user": {
      "displayName": "신석원",
      "photoUrl": "",
      "userId": "02673663347043904044"
     },
     "user_tz": -540
    },
    "id": "n23EVyQ8-rsM",
    "outputId": "65c4f6af-5e8d-482e-a8fd-bf1a75e09653"
   },
   "outputs": [
    {
     "name": "stdout",
     "output_type": "stream",
     "text": [
      "Model: \"sequential_1\"\n",
      "_________________________________________________________________\n",
      "Layer (type)                 Output Shape              Param #   \n",
      "=================================================================\n",
      "simple_rnn_1 (SimpleRNN)     (None, 10)                120       \n",
      "_________________________________________________________________\n",
      "dense_1 (Dense)              (None, 1)                 11        \n",
      "=================================================================\n",
      "Total params: 131\n",
      "Trainable params: 131\n",
      "Non-trainable params: 0\n",
      "_________________________________________________________________\n"
     ]
    }
   ],
   "source": [
    "from keras.models import Sequential\n",
    "from keras.layers import SimpleRNN, Dense\n",
    "\n",
    "np.random.seed(0)\n",
    "model = Sequential()\n",
    "model.add(SimpleRNN(10, input_shape=(3,1)))\n",
    "model.add(Dense(1, activation='linear'))\n",
    "model.compile(loss='mse', optimizer='sgd')\n",
    "model.summary()"
   ]
  },
  {
   "cell_type": "code",
   "execution_count": 9,
   "id": "fbad29d9",
   "metadata": {
    "colab": {
     "base_uri": "https://localhost:8080/",
     "height": 281
    },
    "colab_type": "code",
    "executionInfo": {
     "elapsed": 2678,
     "status": "ok",
     "timestamp": 1596788199968,
     "user": {
      "displayName": "신석원",
      "photoUrl": "",
      "userId": "02673663347043904044"
     },
     "user_tz": -540
    },
    "id": "80UDf5jP_Igb",
    "outputId": "a270d404-1683-4828-b867-d2c434efe9d1"
   },
   "outputs": [
    {
     "data": {
      "image/png": "[encoded data removed]",
      "text/plain": [
       "<Figure size 432x288 with 1 Axes>"
      ]
     },
     "metadata": {
      "needs_background": "light",
      "tags": []
     },
     "output_type": "display_data"
    }
   ],
   "source": [
    "plt.plot(Y_train, 'ro-', label= 'target')\n",
    "plt.plot(model.predict(X_train[:,:,:]), 'bs-', label='output')\n",
    "plt.xlim(-0.5,20.5)\n",
    "plt.ylim(-1.1,1.1)\n",
    "plt.legend()\n",
    "plt.title('Before training')\n",
    "plt.show()"
   ]
  },
  {
   "cell_type": "code",
   "execution_count": 10,
   "id": "ca55a18b",
   "metadata": {
    "colab": {},
    "colab_type": "code",
    "executionInfo": {
     "elapsed": 1805,
     "status": "ok",
     "timestamp": 1596788235278,
     "user": {
      "displayName": "신석원",
      "photoUrl": "",
      "userId": "02673663347043904044"
     },
     "user_tz": -540
    },
    "id": "DXKGRDmE_kdb"
   },
   "outputs": [],
   "source": [
    "history = model.fit(X_train,Y_train, epochs = 100, verbose=0)"
   ]
  },
  {
   "cell_type": "code",
   "execution_count": 11,
   "id": "21654ff6",
   "metadata": {
    "colab": {
     "base_uri": "https://localhost:8080/",
     "height": 281
    },
    "colab_type": "code",
    "executionInfo": {
     "elapsed": 784,
     "status": "ok",
     "timestamp": 1596788262481,
     "user": {
      "displayName": "신석원",
      "photoUrl": "",
      "userId": "02673663347043904044"
     },
     "user_tz": -540
    },
    "id": "8JogrQdY_tS_",
    "outputId": "c8592b3d-aa08-4977-85c9-2ce687961e5a"
   },
   "outputs": [
    {
     "data": {
      "image/png": "[encoded data removed]",
      "text/plain": [
       "<Figure size 432x288 with 1 Axes>"
      ]
     },
     "metadata": {
      "needs_background": "light",
      "tags": []
     },
     "output_type": "display_data"
    }
   ],
   "source": [
    "plt.plot(history.history['loss'])\n",
    "plt.title('loss')\n",
    "plt.show()"
   ]
  },
  {
   "cell_type": "code",
   "execution_count": 12,
   "id": "728a57ba",
   "metadata": {
    "colab": {
     "base_uri": "https://localhost:8080/",
     "height": 281
    },
    "colab_type": "code",
    "executionInfo": {
     "elapsed": 1159,
     "status": "ok",
     "timestamp": 1596788326445,
     "user": {
      "displayName": "신석원",
      "photoUrl": "",
      "userId": "02673663347043904044"
     },
     "user_tz": -540
    },
    "id": "uXuinQ00_0Mc",
    "outputId": "81a3b3d8-bf4b-43bb-f818-98bcb1116a9b",
    "scrolled": false
   },
   "outputs": [
    {
     "data": {
      "image/png": "[encoded data removed]",
      "text/plain": [
       "<Figure size 432x288 with 1 Axes>"
      ]
     },
     "metadata": {
      "needs_background": "light",
      "tags": []
     },
     "output_type": "display_data"
    }
   ],
   "source": [
    "plt.plot(Y_train, 'ro-', label= 'target')\n",
    "plt.plot(model.predict(X_train[:,:,:]), 'bs-', label='output')\n",
    "plt.xlim(-0.5,20.5)\n",
    "plt.ylim(-1.1,1.1)\n",
    "plt.legend()\n",
    "plt.title('After training')\n",
    "plt.show()"
   ]
  },
  {
   "cell_type": "code",
   "execution_count": 2,
   "id": "f4d5ac27",
   "metadata": {
    "colab": {
     "base_uri": "https://localhost:8080/",
     "height": 53
    },
    "colab_type": "code",
    "executionInfo": {
     "elapsed": 4022,
     "status": "ok",
     "timestamp": 1596790052149,
     "user": {
      "displayName": "신석원",
      "photoUrl": "",
      "userId": "02673663347043904044"
     },
     "user_tz": -540
    },
    "id": "nesKg3z6A8XQ",
    "outputId": "758f5252-a764-4989-8a46-4e7963117356"
   },
   "outputs": [
    {
     "name": "stdout",
     "output_type": "stream",
     "text": [
      "Downloading data from https://storage.googleapis.com/tensorflow/tf-keras-datasets/reuters.npz\n",
      "2113536/2110848 [==============================] - 0s 0us/step\n"
     ]
    }
   ],
   "source": [
    "from tensorflow.keras.datasets import reuters\n",
    "\n",
    "%matplotlib inline\n",
    "import matplotlib.pyplot as plt\n",
    "import numpy as np\n",
    "(X_train, Y_train), (X_test, Y_test) = reuters.load_data(num_words=1000, test_split=0.2)"
   ]
  },
  {
   "cell_type": "code",
   "execution_count": 3,
   "id": "c5554ce8",
   "metadata": {
    "colab": {
     "base_uri": "https://localhost:8080/",
     "height": 71
    },
    "colab_type": "code",
    "executionInfo": {
     "elapsed": 3046,
     "status": "ok",
     "timestamp": 1596790052150,
     "user": {
      "displayName": "신석원",
      "photoUrl": "",
      "userId": "02673663347043904044"
     },
     "user_tz": -540
    },
    "id": "e-SjqHW1BRQW",
    "outputId": "ec3951de-247b-4014-9f11-c44a14c9dce6"
   },
   "outputs": [
    {
     "name": "stdout",
     "output_type": "stream",
     "text": [
      "Train data : 8982\n",
      "Test data : 2246\n",
      "class : 46\n"
     ]
    }
   ],
   "source": [
    "print('Train data : {}'.format(len(X_train)))\n",
    "print('Test data : {}'.format(len(X_test)))\n",
    "num_classes = max(Y_train) + 1\n",
    "print('class : {}'.format(num_classes))"
   ]
  },
  {
   "cell_type": "code",
   "execution_count": 4,
   "id": "9bbf7421",
   "metadata": {
    "colab": {
     "base_uri": "https://localhost:8080/",
     "height": 53
    },
    "colab_type": "code",
    "executionInfo": {
     "elapsed": 2377,
     "status": "ok",
     "timestamp": 1596790052150,
     "user": {
      "displayName": "신석원",
      "photoUrl": "",
      "userId": "02673663347043904044"
     },
     "user_tz": -540
    },
    "id": "8AnmrS6fBilA",
    "outputId": "246e0b73-0a7e-463b-e4a3-c4e335c80129"
   },
   "outputs": [
    {
     "name": "stdout",
     "output_type": "stream",
     "text": [
      "Downloading data from https://storage.googleapis.com/tensorflow/tf-keras-datasets/reuters_word_index.json\n",
      "557056/550378 [==============================] - 0s 0us/step\n"
     ]
    }
   ],
   "source": [
    "word_index = reuters.get_word_index()"
   ]
  },
  {
   "cell_type": "code",
   "execution_count": 5,
   "id": "d1c63a15",
   "metadata": {
    "colab": {},
    "colab_type": "code",
    "executionInfo": {
     "elapsed": 1029,
     "status": "ok",
     "timestamp": 1596790052150,
     "user": {
      "displayName": "신석원",
      "photoUrl": "",
      "userId": "02673663347043904044"
     },
     "user_tz": -540
    },
    "id": "FwxuxsqWBrsk"
   },
   "outputs": [],
   "source": [
    "index_word={}\n",
    "for key,value in word_index.items():\n",
    "  index_word[value] = key\n",
    "\n",
    "from tensorflow.keras.models import Sequential , load_model\n",
    "from tensorflow.keras.layers import Dense, LSTM, Embedding\n",
    "from tensorflow.keras.preprocessing.sequence import pad_sequences\n",
    "from tensorflow.keras.utils import to_categorical\n",
    "from tensorflow.keras.callbacks import EarlyStopping, ModelCheckpoint\n"
   ]
  },
  {
   "cell_type": "code",
   "execution_count": 6,
   "id": "8a3be6ca",
   "metadata": {
    "colab": {},
    "colab_type": "code",
    "executionInfo": {
     "elapsed": 1170,
     "status": "ok",
     "timestamp": 1596790053190,
     "user": {
      "displayName": "신석원",
      "photoUrl": "",
      "userId": "02673663347043904044"
     },
     "user_tz": -540
    },
    "id": "O0V2QHDeCPnv"
   },
   "outputs": [],
   "source": [
    "max_len = 100\n",
    "X_train = pad_sequences(X_train, maxlen=max_len)\n",
    "X_test = pad_sequences(X_test, maxlen=max_len)\n",
    "\n",
    "Y_train = to_categorical(Y_train)\n",
    "Y_test = to_categorical(Y_test)"
   ]
  },
  {
   "cell_type": "code",
   "execution_count": null,
   "id": "28ab207e",
   "metadata": {
    "colab": {},
    "colab_type": "code",
    "id": "zF9sYiu8EP-G"
   },
   "outputs": [],
   "source": []
  },
  {
   "cell_type": "code",
   "execution_count": 7,
   "id": "2476d5a7",
   "metadata": {
    "colab": {},
    "colab_type": "code",
    "executionInfo": {
     "elapsed": 6546,
     "status": "ok",
     "timestamp": 1596790060229,
     "user": {
      "displayName": "신석원",
      "photoUrl": "",
      "userId": "02673663347043904044"
     },
     "user_tz": -540
    },
    "id": "BnoVGgn6C0oI"
   },
   "outputs": [],
   "source": [
    "model = Sequential()\n",
    "model.add(Embedding(1000,120))\n",
    "model.add(LSTM(120))\n",
    "model.add(Dense(46, activation='softmax'))\n",
    "es = EarlyStopping(monitor = 'val_loss', mode = 'min', verbose=1, patience=4)\n",
    "mc = ModelCheckpoint('best_model.h5', monitor='val_acc', mode = 'max', save_best_only =True)\n",
    "model.compile(loss= 'categorical_crossentropy', optimizer='adam', metrics = ['acc'])"
   ]
  },
  {
   "cell_type": "code",
   "execution_count": 8,
   "id": "29bb34c0",
   "metadata": {
    "colab": {
     "base_uri": "https://localhost:8080/",
     "height": 377
    },
    "colab_type": "code",
    "executionInfo": {
     "elapsed": 35244,
     "status": "ok",
     "timestamp": 1596790089825,
     "user": {
      "displayName": "신석원",
      "photoUrl": "",
      "userId": "02673663347043904044"
     },
     "user_tz": -540
    },
    "id": "Sg5IwC4TDth5",
    "outputId": "2802c9b7-0d28-46bb-8501-b30f0d217f28"
   },
   "outputs": [
    {
     "name": "stdout",
     "output_type": "stream",
     "text": [
      "Epoch 1/10\n",
      "57/57 [==============================] - 3s 50ms/step - loss: 2.6546 - acc: 0.3488 - val_loss: 2.4115 - val_acc: 0.3450\n",
      "Epoch 2/10\n",
      "57/57 [==============================] - 2s 39ms/step - loss: 2.3525 - acc: 0.3834 - val_loss: 2.1779 - val_acc: 0.4580\n",
      "Epoch 3/10\n",
      "57/57 [==============================] - 2s 38ms/step - loss: 2.0705 - acc: 0.4881 - val_loss: 2.0127 - val_acc: 0.4997\n",
      "Epoch 4/10\n",
      "57/57 [==============================] - 2s 37ms/step - loss: 1.9643 - acc: 0.5111 - val_loss: 2.9819 - val_acc: 0.3606\n",
      "Epoch 5/10\n",
      "57/57 [==============================] - 2s 37ms/step - loss: 1.8846 - acc: 0.5208 - val_loss: 1.7680 - val_acc: 0.5387\n",
      "Epoch 6/10\n",
      "57/57 [==============================] - 2s 37ms/step - loss: 1.7294 - acc: 0.5613 - val_loss: 1.7567 - val_acc: 0.5543\n",
      "Epoch 7/10\n",
      "57/57 [==============================] - 2s 38ms/step - loss: 1.6948 - acc: 0.5691 - val_loss: 1.6942 - val_acc: 0.5576\n",
      "Epoch 8/10\n",
      "57/57 [==============================] - 2s 38ms/step - loss: 1.6273 - acc: 0.5762 - val_loss: 1.6219 - val_acc: 0.5838\n",
      "Epoch 9/10\n",
      "57/57 [==============================] - 2s 38ms/step - loss: 1.5721 - acc: 0.5981 - val_loss: 1.5914 - val_acc: 0.5849\n",
      "Epoch 10/10\n",
      "57/57 [==============================] - 2s 38ms/step - loss: 1.4972 - acc: 0.6159 - val_loss: 1.5268 - val_acc: 0.6188\n"
     ]
    }
   ],
   "source": [
    "history= model.fit(X_train, Y_train, batch_size=128, epochs=10, callbacks=[es,mc], validation_split=0.2)"
   ]
  },
  {
   "cell_type": "code",
   "execution_count": 10,
   "id": "73743ff5",
   "metadata": {
    "colab": {
     "base_uri": "https://localhost:8080/",
     "height": 71
    },
    "colab_type": "code",
    "executionInfo": {
     "elapsed": 2296,
     "status": "ok",
     "timestamp": 1596790223019,
     "user": {
      "displayName": "신석원",
      "photoUrl": "",
      "userId": "02673663347043904044"
     },
     "user_tz": -540
    },
    "id": "Xxmnr8DREEq4",
    "outputId": "a6199736-eb2d-41f6-913a-9314e7fe88d4"
   },
   "outputs": [
    {
     "name": "stdout",
     "output_type": "stream",
     "text": [
      "71/71 [==============================] - 1s 12ms/step - loss: 1.5652 - acc: 0.6113\n",
      "\n",
      " 테스트정확도 : 0.6113\n"
     ]
    }
   ],
   "source": [
    "loaded = load_model('best_model.h5')\n",
    "print(\"\\n 테스트정확도 : %.4f\" % (loaded.evaluate(X_test, Y_test)[1]))"
   ]
  },
  {
   "cell_type": "code",
   "execution_count": 12,
   "id": "40cbc796",
   "metadata": {
    "colab": {
     "base_uri": "https://localhost:8080/",
     "height": 295
    },
    "colab_type": "code",
    "executionInfo": {
     "elapsed": 1217,
     "status": "ok",
     "timestamp": 1596790351241,
     "user": {
      "displayName": "신석원",
      "photoUrl": "",
      "userId": "02673663347043904044"
     },
     "user_tz": -540
    },
    "id": "bVXAUND7GXl2",
    "outputId": "c0d895cb-cd7b-4485-f6d1-f30e14a646b2",
    "scrolled": false
   },
   "outputs": [
    {
     "data": {
      "image/png": "[encoded data removed]",
      "text/plain": [
       "<Figure size 432x288 with 1 Axes>"
      ]
     },
     "metadata": {
      "needs_background": "light",
      "tags": []
     },
     "output_type": "display_data"
    }
   ],
   "source": [
    "epochs = range(1, len(history.history['acc']) + 1)\n",
    "plt.plot(epochs, history.history['loss'])\n",
    "plt.plot(epochs, history.history['val_loss'])\n",
    "plt.title('model loss')\n",
    "plt.ylabel('loss')\n",
    "plt.xlabel('epoch')\n",
    "plt.legend(['train', 'val'], loc = 'upper left')\n",
    "plt.show()"
   ]
  },
  {
   "cell_type": "code",
   "execution_count": 1,
   "id": "6b4867f0",
   "metadata": {
    "colab": {},
    "colab_type": "code",
    "executionInfo": {
     "elapsed": 1378,
     "status": "ok",
     "timestamp": 1596788398409,
     "user": {
      "displayName": "신석원",
      "photoUrl": "",
      "userId": "02673663347043904044"
     },
     "user_tz": -540
    },
    "id": "FLmT2IUvANKN"
   },
   "outputs": [],
   "source": [
    "import numpy as np\n",
    "from matplotlib import pyplot as plt\n",
    "s = np.sin(2 * np.pi * 0.125 * np.arange(20))\n",
    "from scipy.linalg import toeplitz\n",
    "S = np.fliplr(toeplitz(np.r_[s[-1], np.zeros(s.shape[0] - 2)], s[::-1]))\n",
    "\n",
    "X_train = S[:-1, :3][:, :, np.newaxis]\n",
    "Y_train = S[:-1,3]"
   ]
  },
  {
   "cell_type": "code",
   "execution_count": 2,
   "id": "6ffe308e",
   "metadata": {
    "colab": {
     "base_uri": "https://localhost:8080/",
     "height": 233
    },
    "colab_type": "code",
    "executionInfo": {
     "elapsed": 1188,
     "status": "ok",
     "timestamp": 1596788425265,
     "user": {
      "displayName": "신석원",
      "photoUrl": "",
      "userId": "02673663347043904044"
     },
     "user_tz": -540
    },
    "id": "Dd8t9iwOATgW",
    "outputId": "df30bd89-1ae4-4be2-c877-d214a89f5dfa"
   },
   "outputs": [
    {
     "name": "stdout",
     "output_type": "stream",
     "text": [
      "Model: \"sequential\"\n",
      "_________________________________________________________________\n",
      "Layer (type)                 Output Shape              Param #   \n",
      "=================================================================\n",
      "lstm (LSTM)                  (None, 10)                480       \n",
      "_________________________________________________________________\n",
      "dense (Dense)                (None, 1)                 11        \n",
      "=================================================================\n",
      "Total params: 491\n",
      "Trainable params: 491\n",
      "Non-trainable params: 0\n",
      "_________________________________________________________________\n"
     ]
    }
   ],
   "source": [
    "from keras.models import Sequential\n",
    "from keras.layers import LSTM, Dense\n",
    "\n",
    "np.random.seed(0)\n",
    "model = Sequential()\n",
    "model.add(LSTM(10, input_shape=(3,1)))\n",
    "model.add(Dense(1, activation='linear'))\n",
    "model.compile(loss='mse', optimizer='sgd')\n",
    "model.summary()"
   ]
  },
  {
   "cell_type": "code",
   "execution_count": 3,
   "id": "37a9f2ba",
   "metadata": {
    "colab": {
     "base_uri": "https://localhost:8080/",
     "height": 281
    },
    "colab_type": "code",
    "executionInfo": {
     "elapsed": 3312,
     "status": "ok",
     "timestamp": 1596788447930,
     "user": {
      "displayName": "신석원",
      "photoUrl": "",
      "userId": "02673663347043904044"
     },
     "user_tz": -540
    },
    "id": "8d-77ZnnAb1s",
    "outputId": "e5c21edf-0dc3-4439-c418-e69cb7ea8c40"
   },
   "outputs": [
    {
     "data": {
      "image/png": "[encoded data removed]",
      "text/plain": [
       "<Figure size 432x288 with 1 Axes>"
      ]
     },
     "metadata": {
      "needs_background": "light",
      "tags": []
     },
     "output_type": "display_data"
    }
   ],
   "source": [
    "history = model.fit(X_train,Y_train, epochs = 100, verbose=0)\n",
    "plt.plot(history.history['loss'])\n",
    "plt.title('loss')\n",
    "plt.show()"
   ]
  },
  {
   "cell_type": "code",
   "execution_count": 4,
   "id": "307b8e1e",
   "metadata": {
    "colab": {
     "base_uri": "https://localhost:8080/",
     "height": 281
    },
    "colab_type": "code",
    "executionInfo": {
     "elapsed": 1748,
     "status": "ok",
     "timestamp": 1596788459651,
     "user": {
      "displayName": "신석원",
      "photoUrl": "",
      "userId": "02673663347043904044"
     },
     "user_tz": -540
    },
    "id": "x05gqv62Ag2k",
    "outputId": "ef0208ed-4c56-49c2-c38f-e09f131aae4e"
   },
   "outputs": [
    {
     "data": {
      "image/png": "[encoded data removed]",
      "text/plain": [
       "<Figure size 432x288 with 1 Axes>"
      ]
     },
     "metadata": {
      "needs_background": "light",
      "tags": []
     },
     "output_type": "display_data"
    }
   ],
   "source": [
    "plt.plot(Y_train, 'ro-', label= 'target')\n",
    "plt.plot(model.predict(X_train[:,:,:]), 'bs-', label='output')\n",
    "plt.xlim(-0.5,20.5)\n",
    "plt.ylim(-1.1,1.1)\n",
    "plt.legend()\n",
    "plt.title('After training')\n",
    "plt.show()"
   ]
  },
  {
   "cell_type": "code",
   "execution_count": 7,
   "id": "44276139",
   "metadata": {
    "colab": {},
    "colab_type": "code",
    "executionInfo": {
     "elapsed": 5748,
     "status": "ok",
     "timestamp": 1596788490692,
     "user": {
      "displayName": "신석원",
      "photoUrl": "",
      "userId": "02673663347043904044"
     },
     "user_tz": -540
    },
    "id": "SQl-CekJAkGQ"
   },
   "outputs": [],
   "source": [
    "history = model.fit(X_train,Y_train, epochs = 2000, verbose=0)"
   ]
  },
  {
   "cell_type": "code",
   "execution_count": 8,
   "id": "dd80c59f",
   "metadata": {
    "colab": {
     "base_uri": "https://localhost:8080/",
     "height": 281
    },
    "colab_type": "code",
    "executionInfo": {
     "elapsed": 1226,
     "status": "ok",
     "timestamp": 1596788492977,
     "user": {
      "displayName": "신석원",
      "photoUrl": "",
      "userId": "02673663347043904044"
     },
     "user_tz": -540
    },
    "id": "TNzW8mEfAn5w",
    "outputId": "5d73e11d-91a0-4cfe-a5ef-b5231cb1eacd"
   },
   "outputs": [
    {
     "data": {
      "image/png": "[encoded data removed]",
      "text/plain": [
       "<Figure size 432x288 with 1 Axes>"
      ]
     },
     "metadata": {
      "needs_background": "light",
      "tags": []
     },
     "output_type": "display_data"
    }
   ],
   "source": [
    "plt.plot(Y_train, 'ro-', label= 'target')\n",
    "plt.plot(model.predict(X_train[:,:,:]), 'bs-', label='output')\n",
    "plt.xlim(-0.5,20.5)\n",
    "plt.ylim(-1.1,1.1)\n",
    "plt.legend()\n",
    "plt.title('After training')\n",
    "plt.show()"
   ]
  },
  {
   "cell_type": "code",
   "execution_count": 9,
   "id": "629252e4",
   "metadata": {
    "colab": {
     "base_uri": "https://localhost:8080/",
     "height": 233
    },
    "colab_type": "code",
    "executionInfo": {
     "elapsed": 982,
     "status": "ok",
     "timestamp": 1596788515578,
     "user": {
      "displayName": "신석원",
      "photoUrl": "",
      "userId": "02673663347043904044"
     },
     "user_tz": -540
    },
    "id": "YXLzVOP8Aoyc",
    "outputId": "0b902433-0442-4eca-f2e2-bc05336e0f78"
   },
   "outputs": [
    {
     "name": "stdout",
     "output_type": "stream",
     "text": [
      "Model: \"sequential_1\"\n",
      "_________________________________________________________________\n",
      "Layer (type)                 Output Shape              Param #   \n",
      "=================================================================\n",
      "gru (GRU)                    (None, 10)                390       \n",
      "_________________________________________________________________\n",
      "dense_1 (Dense)              (None, 1)                 11        \n",
      "=================================================================\n",
      "Total params: 401\n",
      "Trainable params: 401\n",
      "Non-trainable params: 0\n",
      "_________________________________________________________________\n"
     ]
    }
   ],
   "source": [
    "from keras.models import Sequential\n",
    "from keras.layers import GRU, Dense\n",
    "\n",
    "np.random.seed(0)\n",
    "model = Sequential()\n",
    "model.add(GRU(10, input_shape=(3,1)))\n",
    "model.add(Dense(1, activation='linear'))\n",
    "model.compile(loss='mse', optimizer='sgd')\n",
    "model.summary()"
   ]
  },
  {
   "cell_type": "code",
   "execution_count": 10,
   "id": "81a520a4",
   "metadata": {
    "colab": {},
    "colab_type": "code",
    "executionInfo": {
     "elapsed": 2719,
     "status": "ok",
     "timestamp": 1596788530125,
     "user": {
      "displayName": "신석원",
      "photoUrl": "",
      "userId": "02673663347043904044"
     },
     "user_tz": -540
    },
    "id": "RWbZ1YeUAx5Q"
   },
   "outputs": [],
   "source": [
    "history = model.fit(X_train,Y_train, epochs = 100, verbose=0)"
   ]
  },
  {
   "cell_type": "code",
   "execution_count": 11,
   "id": "8706be15",
   "metadata": {
    "colab": {
     "base_uri": "https://localhost:8080/",
     "height": 281
    },
    "colab_type": "code",
    "executionInfo": {
     "elapsed": 1500,
     "status": "ok",
     "timestamp": 1596788533664,
     "user": {
      "displayName": "신석원",
      "photoUrl": "",
      "userId": "02673663347043904044"
     },
     "user_tz": -540
    },
    "id": "TApXNIifA1EM",
    "outputId": "da0926d6-cdcd-46d5-cfe4-b119a9604983",
    "scrolled": false
   },
   "outputs": [
    {
     "data": {
      "image/png": "[encoded data removed]",
      "text/plain": [
       "<Figure size 432x288 with 1 Axes>"
      ]
     },
     "metadata": {
      "needs_background": "light",
      "tags": []
     },
     "output_type": "display_data"
    }
   ],
   "source": [
    "plt.plot(Y_train, 'ro-', label= 'target')\n",
    "plt.plot(model.predict(X_train[:,:,:]), 'bs-', label='output')\n",
    "plt.xlim(-0.5,20.5)\n",
    "plt.ylim(-1.1,1.1)\n",
    "plt.legend()\n",
    "plt.title('After training')\n",
    "plt.show()"
   ]
  },
  {
   "cell_type": "code",
   "execution_count": null,
   "id": "494f66be",
   "metadata": {},
   "outputs": [],
   "source": []
  }
 ],
 "metadata": {
  "kernelspec": {
   "display_name": "machinelearning",
   "language": "python",
   "name": "machinelearning"
  },
  "language_info": {
   "codemirror_mode": {
    "name": "ipython",
    "version": 3
   },
   "file_extension": ".py",
   "mimetype": "text/x-python",
   "name": "python",
   "nbconvert_exporter": "python",
   "pygments_lexer": "ipython3",
   "version": "3.9.6"
  }
 },
 "nbformat": 4,
 "nbformat_minor": 5
}
